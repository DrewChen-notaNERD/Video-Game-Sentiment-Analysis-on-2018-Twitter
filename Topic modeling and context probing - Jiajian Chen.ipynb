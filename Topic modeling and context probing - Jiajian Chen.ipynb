{
 "cells": [
  {
   "cell_type": "markdown",
   "id": "cf96da48",
   "metadata": {},
   "source": [
    "# TF-IDF Model for Topic Modeling\n",
    "## To answer the question: What did consumers talk about in their review for video games, back in 2018."
   ]
  },
  {
   "cell_type": "code",
   "execution_count": 1,
   "id": "92afd124",
   "metadata": {},
   "outputs": [],
   "source": [
    "import pandas as pd\n",
    "import numpy as np\n",
    "import json\n",
    "import matplotlib.pyplot as plt\n",
    "import gzip\n",
    "\n",
    "\n"
   ]
  },
  {
   "cell_type": "code",
   "execution_count": 2,
   "id": "3634ed82",
   "metadata": {},
   "outputs": [],
   "source": [
    "df = pd.read_json('Video_Games.json.gz', lines = True, compression = 'gzip')"
   ]
  },
  {
   "cell_type": "code",
   "execution_count": 3,
   "id": "0b34fb4c",
   "metadata": {},
   "outputs": [
    {
     "data": {
      "text/html": [
       "<div>\n",
       "<style scoped>\n",
       "    .dataframe tbody tr th:only-of-type {\n",
       "        vertical-align: middle;\n",
       "    }\n",
       "\n",
       "    .dataframe tbody tr th {\n",
       "        vertical-align: top;\n",
       "    }\n",
       "\n",
       "    .dataframe thead th {\n",
       "        text-align: right;\n",
       "    }\n",
       "</style>\n",
       "<table border=\"1\" class=\"dataframe\">\n",
       "  <thead>\n",
       "    <tr style=\"text-align: right;\">\n",
       "      <th></th>\n",
       "      <th>overall</th>\n",
       "      <th>verified</th>\n",
       "      <th>reviewTime</th>\n",
       "      <th>reviewerID</th>\n",
       "      <th>asin</th>\n",
       "      <th>reviewerName</th>\n",
       "      <th>reviewText</th>\n",
       "      <th>summary</th>\n",
       "      <th>unixReviewTime</th>\n",
       "      <th>vote</th>\n",
       "      <th>style</th>\n",
       "      <th>image</th>\n",
       "    </tr>\n",
       "  </thead>\n",
       "  <tbody>\n",
       "    <tr>\n",
       "      <th>0</th>\n",
       "      <td>1</td>\n",
       "      <td>True</td>\n",
       "      <td>06 9, 2014</td>\n",
       "      <td>A21ROB4YDOZA5P</td>\n",
       "      <td>0439381673</td>\n",
       "      <td>Mary M. Clark</td>\n",
       "      <td>I used to play this game years ago and loved i...</td>\n",
       "      <td>Did not like this</td>\n",
       "      <td>1402272000</td>\n",
       "      <td>NaN</td>\n",
       "      <td>NaN</td>\n",
       "      <td>NaN</td>\n",
       "    </tr>\n",
       "    <tr>\n",
       "      <th>1</th>\n",
       "      <td>3</td>\n",
       "      <td>True</td>\n",
       "      <td>05 10, 2014</td>\n",
       "      <td>A3TNZ2Q5E7HTHD</td>\n",
       "      <td>0439381673</td>\n",
       "      <td>Sarabatya</td>\n",
       "      <td>The game itself worked great but the story lin...</td>\n",
       "      <td>Almost Perfect</td>\n",
       "      <td>1399680000</td>\n",
       "      <td>NaN</td>\n",
       "      <td>NaN</td>\n",
       "      <td>NaN</td>\n",
       "    </tr>\n",
       "    <tr>\n",
       "      <th>2</th>\n",
       "      <td>4</td>\n",
       "      <td>True</td>\n",
       "      <td>02 7, 2014</td>\n",
       "      <td>A1OKRM3QFEATQO</td>\n",
       "      <td>0439381673</td>\n",
       "      <td>Amazon Customer</td>\n",
       "      <td>I had to learn the hard way after ordering thi...</td>\n",
       "      <td>DOES NOT WORK WITH MAC OS unless it is 10.3 or...</td>\n",
       "      <td>1391731200</td>\n",
       "      <td>15</td>\n",
       "      <td>NaN</td>\n",
       "      <td>NaN</td>\n",
       "    </tr>\n",
       "    <tr>\n",
       "      <th>3</th>\n",
       "      <td>1</td>\n",
       "      <td>True</td>\n",
       "      <td>02 7, 2014</td>\n",
       "      <td>A2XO1JFCNEYV3T</td>\n",
       "      <td>0439381673</td>\n",
       "      <td>ColoradoPartyof5</td>\n",
       "      <td>The product description should state this clea...</td>\n",
       "      <td>does not work on Mac OSX</td>\n",
       "      <td>1391731200</td>\n",
       "      <td>11</td>\n",
       "      <td>NaN</td>\n",
       "      <td>NaN</td>\n",
       "    </tr>\n",
       "    <tr>\n",
       "      <th>4</th>\n",
       "      <td>4</td>\n",
       "      <td>True</td>\n",
       "      <td>01 16, 2014</td>\n",
       "      <td>A19WLPIRHD15TH</td>\n",
       "      <td>0439381673</td>\n",
       "      <td>Karen Robinson</td>\n",
       "      <td>I would recommend this learning game for anyon...</td>\n",
       "      <td>Roughing it</td>\n",
       "      <td>1389830400</td>\n",
       "      <td>NaN</td>\n",
       "      <td>NaN</td>\n",
       "      <td>NaN</td>\n",
       "    </tr>\n",
       "  </tbody>\n",
       "</table>\n",
       "</div>"
      ],
      "text/plain": [
       "   overall  verified   reviewTime      reviewerID        asin  \\\n",
       "0        1      True   06 9, 2014  A21ROB4YDOZA5P  0439381673   \n",
       "1        3      True  05 10, 2014  A3TNZ2Q5E7HTHD  0439381673   \n",
       "2        4      True   02 7, 2014  A1OKRM3QFEATQO  0439381673   \n",
       "3        1      True   02 7, 2014  A2XO1JFCNEYV3T  0439381673   \n",
       "4        4      True  01 16, 2014  A19WLPIRHD15TH  0439381673   \n",
       "\n",
       "       reviewerName                                         reviewText  \\\n",
       "0     Mary M. Clark  I used to play this game years ago and loved i...   \n",
       "1         Sarabatya  The game itself worked great but the story lin...   \n",
       "2   Amazon Customer  I had to learn the hard way after ordering thi...   \n",
       "3  ColoradoPartyof5  The product description should state this clea...   \n",
       "4    Karen Robinson  I would recommend this learning game for anyon...   \n",
       "\n",
       "                                             summary  unixReviewTime vote  \\\n",
       "0                                  Did not like this      1402272000  NaN   \n",
       "1                                     Almost Perfect      1399680000  NaN   \n",
       "2  DOES NOT WORK WITH MAC OS unless it is 10.3 or...      1391731200   15   \n",
       "3                           does not work on Mac OSX      1391731200   11   \n",
       "4                                        Roughing it      1389830400  NaN   \n",
       "\n",
       "  style image  \n",
       "0   NaN   NaN  \n",
       "1   NaN   NaN  \n",
       "2   NaN   NaN  \n",
       "3   NaN   NaN  \n",
       "4   NaN   NaN  "
      ]
     },
     "execution_count": 3,
     "metadata": {},
     "output_type": "execute_result"
    }
   ],
   "source": [
    "df.head()"
   ]
  },
  {
   "cell_type": "code",
   "execution_count": 31,
   "id": "f7938c54",
   "metadata": {},
   "outputs": [],
   "source": [
    "import re\n",
    "df['year'] = df.reviewTime.apply(lambda t: re.search('(\\d+)$',t).group(1))"
   ]
  },
  {
   "cell_type": "code",
   "execution_count": 32,
   "id": "60302d6c",
   "metadata": {},
   "outputs": [],
   "source": [
    "df['year'] = df[\"year\"].astype(int)"
   ]
  },
  {
   "cell_type": "code",
   "execution_count": 35,
   "id": "4d6b5269",
   "metadata": {},
   "outputs": [],
   "source": [
    "# focus on data after 2017\n",
    "df = df[df.year >= 2017]"
   ]
  },
  {
   "cell_type": "code",
   "execution_count": 36,
   "id": "39de5758",
   "metadata": {},
   "outputs": [],
   "source": [
    "import re\n",
    "from sklearn import feature_extraction \n",
    "stop_words = feature_extraction.text.ENGLISH_STOP_WORDS\n",
    "from nltk.stem import PorterStemmer\n",
    "from nltk.stem import WordNetLemmatizer\n",
    "\n",
    "def preprocess(text):\n",
    "  text = text.lower() #lowercase\n",
    "  text = re.sub(r'[^\\w\\s]', '', text) #remove punctuations\n",
    "  text = re.sub(r'\\d+', '', text) #remove numbers\n",
    "  text = \" \".join(text.split()) #stripWhitespace\n",
    "  text = text.split()\n",
    "  text = [x for x in text if x not in stop_words] #remove stopwords\n",
    "  text = [x for x in text if x not in [\"dr\", \"doctor\"]] #remove task specific stopwords\n",
    "  text = \" \".join(text)\n",
    "  # stemmer_ps = PorterStemmer()  \n",
    "  # text = [stemmer_ps.stem(word) for word in text.split()] #stemming\n",
    "  # text = \" \".join(text)\n",
    "  lemmatizer = WordNetLemmatizer()\n",
    "  text = [lemmatizer.lemmatize(word) for word in text.split()]  #lemmatization\n",
    "  text = \" \".join(text)\n",
    "  return(text)\n"
   ]
  },
  {
   "cell_type": "code",
   "execution_count": 37,
   "id": "58510641",
   "metadata": {},
   "outputs": [
    {
     "data": {
      "text/html": [
       "<div>\n",
       "<style scoped>\n",
       "    .dataframe tbody tr th:only-of-type {\n",
       "        vertical-align: middle;\n",
       "    }\n",
       "\n",
       "    .dataframe tbody tr th {\n",
       "        vertical-align: top;\n",
       "    }\n",
       "\n",
       "    .dataframe thead th {\n",
       "        text-align: right;\n",
       "    }\n",
       "</style>\n",
       "<table border=\"1\" class=\"dataframe\">\n",
       "  <thead>\n",
       "    <tr style=\"text-align: right;\">\n",
       "      <th></th>\n",
       "      <th>overall</th>\n",
       "      <th>unixReviewTime</th>\n",
       "      <th>year</th>\n",
       "    </tr>\n",
       "  </thead>\n",
       "  <tbody>\n",
       "    <tr>\n",
       "      <th>count</th>\n",
       "      <td>409478.000000</td>\n",
       "      <td>4.094780e+05</td>\n",
       "      <td>409478.000000</td>\n",
       "    </tr>\n",
       "    <tr>\n",
       "      <th>mean</th>\n",
       "      <td>3.966518</td>\n",
       "      <td>1.504725e+09</td>\n",
       "      <td>2017.308097</td>\n",
       "    </tr>\n",
       "    <tr>\n",
       "      <th>std</th>\n",
       "      <td>1.496066</td>\n",
       "      <td>1.518623e+07</td>\n",
       "      <td>0.461707</td>\n",
       "    </tr>\n",
       "    <tr>\n",
       "      <th>min</th>\n",
       "      <td>1.000000</td>\n",
       "      <td>1.483229e+09</td>\n",
       "      <td>2017.000000</td>\n",
       "    </tr>\n",
       "    <tr>\n",
       "      <th>25%</th>\n",
       "      <td>3.000000</td>\n",
       "      <td>1.490573e+09</td>\n",
       "      <td>2017.000000</td>\n",
       "    </tr>\n",
       "    <tr>\n",
       "      <th>50%</th>\n",
       "      <td>5.000000</td>\n",
       "      <td>1.502928e+09</td>\n",
       "      <td>2017.000000</td>\n",
       "    </tr>\n",
       "    <tr>\n",
       "      <th>75%</th>\n",
       "      <td>5.000000</td>\n",
       "      <td>1.517530e+09</td>\n",
       "      <td>2018.000000</td>\n",
       "    </tr>\n",
       "    <tr>\n",
       "      <th>max</th>\n",
       "      <td>5.000000</td>\n",
       "      <td>1.538438e+09</td>\n",
       "      <td>2018.000000</td>\n",
       "    </tr>\n",
       "  </tbody>\n",
       "</table>\n",
       "</div>"
      ],
      "text/plain": [
       "             overall  unixReviewTime           year\n",
       "count  409478.000000    4.094780e+05  409478.000000\n",
       "mean        3.966518    1.504725e+09    2017.308097\n",
       "std         1.496066    1.518623e+07       0.461707\n",
       "min         1.000000    1.483229e+09    2017.000000\n",
       "25%         3.000000    1.490573e+09    2017.000000\n",
       "50%         5.000000    1.502928e+09    2017.000000\n",
       "75%         5.000000    1.517530e+09    2018.000000\n",
       "max         5.000000    1.538438e+09    2018.000000"
      ]
     },
     "execution_count": 37,
     "metadata": {},
     "output_type": "execute_result"
    }
   ],
   "source": [
    "# take a look at overall\n",
    "df.describe()"
   ]
  },
  {
   "cell_type": "code",
   "execution_count": 38,
   "id": "907be626",
   "metadata": {},
   "outputs": [
    {
     "data": {
      "image/png": "[encoded data removed]",
      "text/plain": [
       "<Figure size 432x288 with 1 Axes>"
      ]
     },
     "metadata": {
      "needs_background": "light"
     },
     "output_type": "display_data"
    }
   ],
   "source": [
    "plt.subplot()\n",
    "plt.hist(df['overall'])\n",
    "plt.show()"
   ]
  },
  {
   "cell_type": "code",
   "execution_count": 42,
   "id": "89736c8e",
   "metadata": {},
   "outputs": [
    {
     "data": {
      "text/html": [
       "<div>\n",
       "<style scoped>\n",
       "    .dataframe tbody tr th:only-of-type {\n",
       "        vertical-align: middle;\n",
       "    }\n",
       "\n",
       "    .dataframe tbody tr th {\n",
       "        vertical-align: top;\n",
       "    }\n",
       "\n",
       "    .dataframe thead th {\n",
       "        text-align: right;\n",
       "    }\n",
       "</style>\n",
       "<table border=\"1\" class=\"dataframe\">\n",
       "  <thead>\n",
       "    <tr style=\"text-align: right;\">\n",
       "      <th></th>\n",
       "      <th>reviewText</th>\n",
       "      <th>summary</th>\n",
       "    </tr>\n",
       "  </thead>\n",
       "  <tbody>\n",
       "    <tr>\n",
       "      <th>2534483</th>\n",
       "      <td>Product as described.  100% perfect.</td>\n",
       "      <td>Legit Purchase</td>\n",
       "    </tr>\n",
       "    <tr>\n",
       "      <th>2403817</th>\n",
       "      <td>Just a heads up, you cannot download this game...</td>\n",
       "      <td>Just a heads up, you cannot download this game...</td>\n",
       "    </tr>\n",
       "    <tr>\n",
       "      <th>1690829</th>\n",
       "      <td>LOVE this keyboard. this is first mechanical k...</td>\n",
       "      <td>best keyboard i've ever owned!</td>\n",
       "    </tr>\n",
       "    <tr>\n",
       "      <th>2410412</th>\n",
       "      <td>the items and service is first class thanks</td>\n",
       "      <td>Five Stars</td>\n",
       "    </tr>\n",
       "    <tr>\n",
       "      <th>1891817</th>\n",
       "      <td>I loved the first game. I don't care how fanta...</td>\n",
       "      <td>move along. replay stick of truth</td>\n",
       "    </tr>\n",
       "  </tbody>\n",
       "</table>\n",
       "</div>"
      ],
      "text/plain": [
       "                                                reviewText  \\\n",
       "2534483               Product as described.  100% perfect.   \n",
       "2403817  Just a heads up, you cannot download this game...   \n",
       "1690829  LOVE this keyboard. this is first mechanical k...   \n",
       "2410412        the items and service is first class thanks   \n",
       "1891817  I loved the first game. I don't care how fanta...   \n",
       "\n",
       "                                                   summary  \n",
       "2534483                                     Legit Purchase  \n",
       "2403817  Just a heads up, you cannot download this game...  \n",
       "1690829                     best keyboard i've ever owned!  \n",
       "2410412                                         Five Stars  \n",
       "1891817                  move along. replay stick of truth  "
      ]
     },
     "execution_count": 42,
     "metadata": {},
     "output_type": "execute_result"
    }
   ],
   "source": [
    "df.sample(5).loc[:,['reviewText','summary']]"
   ]
  },
  {
   "cell_type": "code",
   "execution_count": 43,
   "id": "0a7203d0",
   "metadata": {},
   "outputs": [],
   "source": [
    "df['review_processed']=df['reviewText'].apply(lambda x:preprocess(str(x)))\n",
    "df['review_processed']=df['review_processed'].apply(lambda x:x.split())"
   ]
  },
  {
   "cell_type": "code",
   "execution_count": 44,
   "id": "50f9b82f",
   "metadata": {},
   "outputs": [
    {
     "data": {
      "text/html": [
       "<div>\n",
       "<style scoped>\n",
       "    .dataframe tbody tr th:only-of-type {\n",
       "        vertical-align: middle;\n",
       "    }\n",
       "\n",
       "    .dataframe tbody tr th {\n",
       "        vertical-align: top;\n",
       "    }\n",
       "\n",
       "    .dataframe thead th {\n",
       "        text-align: right;\n",
       "    }\n",
       "</style>\n",
       "<table border=\"1\" class=\"dataframe\">\n",
       "  <thead>\n",
       "    <tr style=\"text-align: right;\">\n",
       "      <th></th>\n",
       "      <th>overall</th>\n",
       "      <th>verified</th>\n",
       "      <th>reviewTime</th>\n",
       "      <th>reviewerID</th>\n",
       "      <th>asin</th>\n",
       "      <th>reviewerName</th>\n",
       "      <th>reviewText</th>\n",
       "      <th>summary</th>\n",
       "      <th>unixReviewTime</th>\n",
       "      <th>vote</th>\n",
       "      <th>style</th>\n",
       "      <th>image</th>\n",
       "      <th>year</th>\n",
       "      <th>review_processed</th>\n",
       "    </tr>\n",
       "  </thead>\n",
       "  <tbody>\n",
       "    <tr>\n",
       "      <th>10</th>\n",
       "      <td>5</td>\n",
       "      <td>True</td>\n",
       "      <td>05 28, 2017</td>\n",
       "      <td>ATVYWID968EUQ</td>\n",
       "      <td>0439381673</td>\n",
       "      <td>TaNiesha</td>\n",
       "      <td>I got this to show my kids what I used to play...</td>\n",
       "      <td>Still fun</td>\n",
       "      <td>1495929600</td>\n",
       "      <td>NaN</td>\n",
       "      <td>NaN</td>\n",
       "      <td>NaN</td>\n",
       "      <td>2017</td>\n",
       "      <td>[got, kid, used, play, school, graphic, signif...</td>\n",
       "    </tr>\n",
       "    <tr>\n",
       "      <th>11</th>\n",
       "      <td>5</td>\n",
       "      <td>True</td>\n",
       "      <td>03 30, 2017</td>\n",
       "      <td>A3FGRYQWUEM6UP</td>\n",
       "      <td>0439381673</td>\n",
       "      <td>Chey</td>\n",
       "      <td>Works great!</td>\n",
       "      <td>Fun to Play</td>\n",
       "      <td>1490832000</td>\n",
       "      <td>NaN</td>\n",
       "      <td>NaN</td>\n",
       "      <td>NaN</td>\n",
       "      <td>2017</td>\n",
       "      <td>[work, great]</td>\n",
       "    </tr>\n",
       "    <tr>\n",
       "      <th>12</th>\n",
       "      <td>1</td>\n",
       "      <td>True</td>\n",
       "      <td>03 17, 2017</td>\n",
       "      <td>AKQPJ6MMWXRP9</td>\n",
       "      <td>0439381673</td>\n",
       "      <td>J. Clarry</td>\n",
       "      <td>I cannot get this game to install on my comput...</td>\n",
       "      <td>Cant play</td>\n",
       "      <td>1489708800</td>\n",
       "      <td>NaN</td>\n",
       "      <td>NaN</td>\n",
       "      <td>NaN</td>\n",
       "      <td>2017</td>\n",
       "      <td>[game, install, computer, matter]</td>\n",
       "    </tr>\n",
       "    <tr>\n",
       "      <th>13</th>\n",
       "      <td>1</td>\n",
       "      <td>True</td>\n",
       "      <td>03 1, 2017</td>\n",
       "      <td>AK893YQY5FJIP</td>\n",
       "      <td>0439381673</td>\n",
       "      <td>G. M. Coppolino</td>\n",
       "      <td>My kids were psyched to get this to go along w...</td>\n",
       "      <td>NOT FOR A newer MAC</td>\n",
       "      <td>1488326400</td>\n",
       "      <td>4</td>\n",
       "      <td>NaN</td>\n",
       "      <td>NaN</td>\n",
       "      <td>2017</td>\n",
       "      <td>[kid, psyched, study, doesnt, work, maceven, d...</td>\n",
       "    </tr>\n",
       "    <tr>\n",
       "      <th>14</th>\n",
       "      <td>5</td>\n",
       "      <td>True</td>\n",
       "      <td>01 26, 2017</td>\n",
       "      <td>A1PVJA5BYG6XOJ</td>\n",
       "      <td>0439381673</td>\n",
       "      <td>Amazon Customer</td>\n",
       "      <td>You must buy this game!! It is so much fun! Ge...</td>\n",
       "      <td>A must have game!!!</td>\n",
       "      <td>1485388800</td>\n",
       "      <td>NaN</td>\n",
       "      <td>NaN</td>\n",
       "      <td>NaN</td>\n",
       "      <td>2017</td>\n",
       "      <td>[buy, game, fun, ready, plague, lol]</td>\n",
       "    </tr>\n",
       "  </tbody>\n",
       "</table>\n",
       "</div>"
      ],
      "text/plain": [
       "    overall  verified   reviewTime      reviewerID        asin  \\\n",
       "10        5      True  05 28, 2017   ATVYWID968EUQ  0439381673   \n",
       "11        5      True  03 30, 2017  A3FGRYQWUEM6UP  0439381673   \n",
       "12        1      True  03 17, 2017   AKQPJ6MMWXRP9  0439381673   \n",
       "13        1      True   03 1, 2017   AK893YQY5FJIP  0439381673   \n",
       "14        5      True  01 26, 2017  A1PVJA5BYG6XOJ  0439381673   \n",
       "\n",
       "       reviewerName                                         reviewText  \\\n",
       "10         TaNiesha  I got this to show my kids what I used to play...   \n",
       "11             Chey                                       Works great!   \n",
       "12        J. Clarry  I cannot get this game to install on my comput...   \n",
       "13  G. M. Coppolino  My kids were psyched to get this to go along w...   \n",
       "14  Amazon Customer  You must buy this game!! It is so much fun! Ge...   \n",
       "\n",
       "                summary  unixReviewTime vote style image  year  \\\n",
       "10            Still fun      1495929600  NaN   NaN   NaN  2017   \n",
       "11          Fun to Play      1490832000  NaN   NaN   NaN  2017   \n",
       "12            Cant play      1489708800  NaN   NaN   NaN  2017   \n",
       "13  NOT FOR A newer MAC      1488326400    4   NaN   NaN  2017   \n",
       "14  A must have game!!!      1485388800  NaN   NaN   NaN  2017   \n",
       "\n",
       "                                     review_processed  \n",
       "10  [got, kid, used, play, school, graphic, signif...  \n",
       "11                                      [work, great]  \n",
       "12                  [game, install, computer, matter]  \n",
       "13  [kid, psyched, study, doesnt, work, maceven, d...  \n",
       "14               [buy, game, fun, ready, plague, lol]  "
      ]
     },
     "execution_count": 44,
     "metadata": {},
     "output_type": "execute_result"
    }
   ],
   "source": [
    "df.head()\n",
    "\n",
    "\n",
    "# print([x for x in temp[0] if x.lower() not in stop_words])\n",
    "# # re.sub(r'[%s]' % re.escape(string.punctuation), '', temp[0][-1]) "
   ]
  },
  {
   "cell_type": "code",
   "execution_count": 72,
   "id": "97461ec1",
   "metadata": {},
   "outputs": [],
   "source": [
    "from gensim import corpora\n",
    "dictionary = corpora.Dictionary(df['review_processed'])\n",
    "dictionaryDF = pd.DataFrame()\n",
    "dictionaryDF['id']=dictionary.keys()\n",
    "dictionaryDF['word']=dictionary.values()\n",
    "# dictionary.filter_extremes(no_below=1)\n",
    "# no_below (int, optional) – Keep tokens which are contained in at least no_below documents.\n",
    "# no_above (float, optional) – Keep tokens which are contained in no more than no_above documents (fraction of total corpus size, not an absolute number).\n",
    "# dictionaryDF = pd.DataFrame()\n",
    "# dictionaryDF['id']=dictionary.keys()\n",
    "# dictionaryDF['word']=dictionary.values()\n",
    "# dictionaryDF\n",
    "# see https://radimrehurek.com/gensim/corpora/dictionary.html for details"
   ]
  },
  {
   "cell_type": "code",
   "execution_count": 75,
   "id": "9f15f7f3",
   "metadata": {},
   "outputs": [
    {
     "data": {
      "text/plain": [
       "69943"
      ]
     },
     "execution_count": 75,
     "metadata": {},
     "output_type": "execute_result"
    }
   ],
   "source": [
    "len(dictionary)"
   ]
  },
  {
   "cell_type": "code",
   "execution_count": 79,
   "id": "dcf0727e",
   "metadata": {},
   "outputs": [
    {
     "data": {
      "text/html": [
       "<div>\n",
       "<style scoped>\n",
       "    .dataframe tbody tr th:only-of-type {\n",
       "        vertical-align: middle;\n",
       "    }\n",
       "\n",
       "    .dataframe tbody tr th {\n",
       "        vertical-align: top;\n",
       "    }\n",
       "\n",
       "    .dataframe thead th {\n",
       "        text-align: right;\n",
       "    }\n",
       "</style>\n",
       "<table border=\"1\" class=\"dataframe\">\n",
       "  <thead>\n",
       "    <tr style=\"text-align: right;\">\n",
       "      <th></th>\n",
       "      <th>id</th>\n",
       "      <th>word</th>\n",
       "    </tr>\n",
       "  </thead>\n",
       "  <tbody>\n",
       "    <tr>\n",
       "      <th>0</th>\n",
       "      <td>0</td>\n",
       "      <td>ago</td>\n",
       "    </tr>\n",
       "    <tr>\n",
       "      <th>1</th>\n",
       "      <td>1</td>\n",
       "      <td>computer</td>\n",
       "    </tr>\n",
       "    <tr>\n",
       "      <th>2</th>\n",
       "      <td>2</td>\n",
       "      <td>did</td>\n",
       "    </tr>\n",
       "    <tr>\n",
       "      <th>3</th>\n",
       "      <td>3</td>\n",
       "      <td>game</td>\n",
       "    </tr>\n",
       "    <tr>\n",
       "      <th>4</th>\n",
       "      <td>4</td>\n",
       "      <td>loved</td>\n",
       "    </tr>\n",
       "    <tr>\n",
       "      <th>...</th>\n",
       "      <td>...</td>\n",
       "      <td>...</td>\n",
       "    </tr>\n",
       "    <tr>\n",
       "      <th>20809</th>\n",
       "      <td>20809</td>\n",
       "      <td>gamesir</td>\n",
       "    </tr>\n",
       "    <tr>\n",
       "      <th>20810</th>\n",
       "      <td>20810</td>\n",
       "      <td>evie</td>\n",
       "    </tr>\n",
       "    <tr>\n",
       "      <th>20811</th>\n",
       "      <td>20811</td>\n",
       "      <td>romerg</td>\n",
       "    </tr>\n",
       "    <tr>\n",
       "      <th>20812</th>\n",
       "      <td>20812</td>\n",
       "      <td>trico</td>\n",
       "    </tr>\n",
       "    <tr>\n",
       "      <th>20813</th>\n",
       "      <td>20813</td>\n",
       "      <td>pokestops</td>\n",
       "    </tr>\n",
       "  </tbody>\n",
       "</table>\n",
       "<p>20814 rows × 2 columns</p>\n",
       "</div>"
      ],
      "text/plain": [
       "          id       word\n",
       "0          0        ago\n",
       "1          1   computer\n",
       "2          2        did\n",
       "3          3       game\n",
       "4          4      loved\n",
       "...      ...        ...\n",
       "20809  20809    gamesir\n",
       "20810  20810       evie\n",
       "20811  20811     romerg\n",
       "20812  20812      trico\n",
       "20813  20813  pokestops\n",
       "\n",
       "[20814 rows x 2 columns]"
      ]
     },
     "execution_count": 79,
     "metadata": {},
     "output_type": "execute_result"
    }
   ],
   "source": [
    "dictionary.filter_extremes(no_below = 100, no_above = 1000)\n",
    "# keep_n (int, optional) – Keep only the first keep_n most frequent tokens.\n",
    "dictionaryDF = pd.DataFrame()\n",
    "dictionaryDF['id']=dictionary.keys()\n",
    "dictionaryDF['word']=dictionary.values()\n",
    "dictionaryDF"
   ]
  },
  {
   "cell_type": "code",
   "execution_count": 80,
   "id": "99d70d9b",
   "metadata": {},
   "outputs": [],
   "source": [
    "# corpus\n",
    "df['text_ids']=df['review_processed'].apply(lambda x:dictionary.doc2bow(x))"
   ]
  },
  {
   "cell_type": "code",
   "execution_count": 91,
   "id": "c4c074de",
   "metadata": {},
   "outputs": [
    {
     "name": "stdout",
     "output_type": "stream",
     "text": [
      "(14, '0.089*\"controller\" + 0.056*\"mouse\" + 0.035*\"use\" + 0.033*\"keyboard\" + 0.027*\"buttons\" + 0.025*\"controllers\" + 0.020*\"button\" + 0.017*\"gaming\"')\n",
      "(6, '0.282*\"new\" + 0.107*\"characters\" + 0.058*\"different\" + 0.037*\"character\" + 0.034*\"items\" + 0.030*\"special\" + 0.030*\"match\" + 0.028*\"ones\"')\n",
      "(4, '0.055*\"black\" + 0.046*\"broke\" + 0.044*\"red\" + 0.040*\"blue\" + 0.038*\"piece\" + 0.036*\"white\" + 0.031*\"stay\" + 0.024*\"family\"')\n",
      "(24, '0.079*\"came\" + 0.057*\"happy\" + 0.045*\"fast\" + 0.042*\"got\" + 0.041*\"received\" + 0.039*\"arrived\" + 0.037*\"time\" + 0.031*\"ordered\"')\n",
      "(3, '0.093*\"hear\" + 0.077*\"music\" + 0.062*\"noise\" + 0.057*\"ears\" + 0.057*\"ear\" + 0.035*\"final\" + 0.033*\"songs\" + 0.033*\"expectations\"')\n",
      "(28, '0.210*\"ds\" + 0.107*\"wii\" + 0.104*\"super\" + 0.071*\"nintendo\" + 0.043*\"d\" + 0.040*\"games\" + 0.027*\"mario\" + 0.022*\"fit\"')\n",
      "(5, '0.193*\"ps\" + 0.141*\"xbox\" + 0.052*\"console\" + 0.030*\"playstation\" + 0.026*\"grandson\" + 0.025*\"card\" + 0.021*\"games\" + 0.019*\"customer\"')\n",
      "(27, '0.071*\"color\" + 0.065*\"keys\" + 0.049*\"key\" + 0.044*\"light\" + 0.041*\"colors\" + 0.020*\"bright\" + 0.018*\"exchange\" + 0.016*\"downloaded\"')\n",
      "(18, '0.093*\"screen\" + 0.036*\"video\" + 0.035*\"keeps\" + 0.034*\"puzzles\" + 0.033*\"picture\" + 0.027*\"figure\" + 0.026*\"dead\" + 0.025*\"hidden\"')\n",
      "(12, '0.333*\"game\" + 0.089*\"fun\" + 0.084*\"play\" + 0.059*\"great\" + 0.042*\"good\" + 0.029*\"really\" + 0.021*\"like\" + 0.020*\"easy\"')\n",
      "(17, '0.022*\"download\" + 0.021*\"windows\" + 0.020*\"game\" + 0.018*\"computer\" + 0.017*\"batteries\" + 0.016*\"play\" + 0.015*\"install\" + 0.014*\"issues\"')\n",
      "(21, '0.171*\"games\" + 0.100*\"best\" + 0.063*\"game\" + 0.049*\"ive\" + 0.042*\"played\" + 0.037*\"playing\" + 0.035*\"highly\" + 0.034*\"recommend\"')\n",
      "(16, '0.099*\"game\" + 0.028*\"story\" + 0.017*\"games\" + 0.014*\"like\" + 0.014*\"gameplay\" + 0.012*\"world\" + 0.011*\"graphics\" + 0.009*\"series\"')\n",
      "(26, '0.118*\"awesome\" + 0.083*\"amazing\" + 0.076*\"great\" + 0.074*\"game\" + 0.064*\"looks\" + 0.051*\"cool\" + 0.050*\"fan\" + 0.022*\"fantastic\"')\n",
      "(19, '0.046*\"headset\" + 0.016*\"use\" + 0.014*\"time\" + 0.011*\"steam\" + 0.010*\"level\" + 0.009*\"set\" + 0.007*\"way\" + 0.007*\"end\"')\n",
      "(0, '0.023*\"little\" + 0.020*\"like\" + 0.018*\"feel\" + 0.017*\"comfortable\" + 0.017*\"bit\" + 0.015*\"good\" + 0.014*\"feels\" + 0.014*\"nice\"')\n",
      "(29, '0.564*\"love\" + 0.083*\"thank\" + 0.037*\"heavy\" + 0.029*\"fps\" + 0.025*\"absolutely\" + 0.023*\"scratches\" + 0.019*\"lag\" + 0.017*\"friend\"')\n",
      "(7, '0.114*\"son\" + 0.101*\"loves\" + 0.081*\"old\" + 0.075*\"loved\" + 0.069*\"year\" + 0.063*\"kids\" + 0.058*\"gift\" + 0.056*\"bought\"')\n",
      "(1, '0.101*\"worth\" + 0.079*\"price\" + 0.078*\"original\" + 0.040*\"edition\" + 0.032*\"money\" + 0.028*\"bundle\" + 0.022*\"collection\" + 0.021*\"definitely\"')\n",
      "(20, '0.050*\"quality\" + 0.041*\"sound\" + 0.038*\"case\" + 0.038*\"fit\" + 0.036*\"nice\" + 0.027*\"good\" + 0.025*\"fits\" + 0.024*\"great\"')\n"
     ]
    }
   ],
   "source": [
    "from gensim import models\n",
    "num_topics=30\n",
    "ldamodel = models.ldamodel.LdaModel(df['text_ids'], \n",
    "                                    num_topics = num_topics, \n",
    "                                    id2word=dictionary, \n",
    "                                    passes=1, \n",
    "                                    random_state=100)\n",
    "topics = ldamodel.print_topics(num_words=8)\n",
    "for topic in topics:\n",
    "    print(topic)"
   ]
  },
  {
   "cell_type": "code",
   "execution_count": null,
   "id": "205fbfc1",
   "metadata": {},
   "outputs": [],
   "source": []
  },
  {
   "cell_type": "code",
   "execution_count": 89,
   "id": "a88e7157",
   "metadata": {},
   "outputs": [
    {
     "ename": "AttributeError",
     "evalue": "module 'pyLDAvis' has no attribute 'gensim'",
     "output_type": "error",
     "traceback": [
      "\u001b[0;31m---------------------------------------------------------------------------\u001b[0m",
      "\u001b[0;31mAttributeError\u001b[0m                            Traceback (most recent call last)",
      "Input \u001b[0;32mIn [89]\u001b[0m, in \u001b[0;36m<cell line: 4>\u001b[0;34m()\u001b[0m\n\u001b[1;32m      2\u001b[0m \u001b[38;5;28;01mimport\u001b[39;00m \u001b[38;5;21;01mpyLDAvis\u001b[39;00m\n\u001b[1;32m      3\u001b[0m pyLDAvis\u001b[38;5;241m.\u001b[39menable_notebook()\n\u001b[0;32m----> 4\u001b[0m vis \u001b[38;5;241m=\u001b[39m \u001b[43mpyLDAvis\u001b[49m\u001b[38;5;241;43m.\u001b[39;49m\u001b[43mgensim\u001b[49m\u001b[38;5;241m.\u001b[39mprepare(ldamodel,df[\u001b[38;5;124m'\u001b[39m\u001b[38;5;124mtext_ids\u001b[39m\u001b[38;5;124m'\u001b[39m],dictionary,mds\u001b[38;5;241m=\u001b[39m\u001b[38;5;124m\"\u001b[39m\u001b[38;5;124mmmds\u001b[39m\u001b[38;5;124m\"\u001b[39m,R\u001b[38;5;241m=\u001b[39m\u001b[38;5;241m30\u001b[39m)\n",
      "\u001b[0;31mAttributeError\u001b[0m: module 'pyLDAvis' has no attribute 'gensim'"
     ]
    }
   ],
   "source": [
    "# !pip install pyLDAvis\n",
    "import pyLDAvis\n",
    "pyLDAvis.enable_notebook()\n",
    "vis = pyLDAvis.gensim.prepare(ldamodel,df['text_ids'],dictionary,mds=\"mmds\",R=30)"
   ]
  },
  {
   "cell_type": "code",
   "execution_count": 94,
   "id": "4c2f68a4",
   "metadata": {},
   "outputs": [
    {
     "data": {
      "text/plain": [
       "139"
      ]
     },
     "execution_count": 94,
     "metadata": {},
     "output_type": "execute_result"
    }
   ],
   "source": [
    "len(df[\"reviewText\"][0])"
   ]
  },
  {
   "cell_type": "markdown",
   "id": "b25d00cc",
   "metadata": {},
   "source": [
    "# Word2Vec model for scrutinizing the context for specific word"
   ]
  },
  {
   "cell_type": "code",
   "execution_count": 40,
   "id": "c18b0a85",
   "metadata": {},
   "outputs": [
    {
     "name": "stdout",
     "output_type": "stream",
     "text": [
      "Collecting gensim\n",
      "  Downloading gensim-4.1.2-cp39-cp39-macosx_10_9_x86_64.whl (24.0 MB)\n",
      "\u001b[K     |████████████████████████████████| 24.0 MB 20.3 MB/s eta 0:00:01\n",
      "\u001b[?25hRequirement already satisfied: scipy>=0.18.1 in /Users/chenjiajian/opt/anaconda3/lib/python3.9/site-packages (from gensim) (1.7.1)\n",
      "Requirement already satisfied: numpy>=1.17.0 in /Users/chenjiajian/opt/anaconda3/lib/python3.9/site-packages (from gensim) (1.20.3)\n",
      "Collecting smart-open>=1.8.1\n",
      "  Using cached smart_open-5.2.1-py3-none-any.whl (58 kB)\n",
      "Installing collected packages: smart-open, gensim\n",
      "Successfully installed gensim-4.1.2 smart-open-5.2.1\n"
     ]
    }
   ],
   "source": [
    "!pip install gensim"
   ]
  },
  {
   "cell_type": "code",
   "execution_count": 46,
   "id": "8c0e2d06",
   "metadata": {},
   "outputs": [],
   "source": [
    "# data preprocessing / data cleaning\n",
    "from gensim.models.word2vec import Word2Vec\n",
    "import re\n",
    "from sklearn import feature_extraction \n",
    "stop_words = feature_extraction.text.ENGLISH_STOP_WORDS\n",
    "from nltk.stem import PorterStemmer\n",
    "from nltk.stem import WordNetLemmatizer\n",
    "import string\n",
    "\n",
    "import warnings\n",
    "warnings.simplefilter(action = 'ignore')\n",
    "\n",
    "def clean_text(text):\n",
    "    ''', , and '''\n",
    "#Make text lowercase   \n",
    "    text = text.lower()\n",
    "# #remove text in square brackets\n",
    "#     text = re.sub(r'\\[.*?\\]', '', text)\n",
    "#remove punctuation   \n",
    "    text = re.sub(r'[%s]' % re.escape(string.punctuation), '', text) \n",
    "#remove stopwords\n",
    "    text = text.split()\n",
    "    text = [x for x in text if x not in stop_words]\n",
    "    text = \" \".join(text)\n",
    "#remove words containing numbers\n",
    "    text = re.sub(r'\\w*\\d\\w*', '', text)\n",
    "# #remove links   \n",
    "#     text = re.sub(r'http\\S+', '', text)\n",
    "    \n",
    "    lemmatizer = WordNetLemmatizer()\n",
    "    text = [lemmatizer.lemmatize(word) for word in text.split()]  #lemmatization\n",
    "    text = \" \".join(text)\n",
    "    return text\n",
    "    \n",
    "text = pd.DataFrame(df.reviewText.apply(lambda x: clean_text(str(x))))"
   ]
  },
  {
   "cell_type": "code",
   "execution_count": 76,
   "id": "9494d789",
   "metadata": {},
   "outputs": [
    {
     "data": {
      "text/plain": [
       "409478"
      ]
     },
     "execution_count": 76,
     "metadata": {},
     "output_type": "execute_result"
    }
   ],
   "source": [
    "len(text)"
   ]
  },
  {
   "cell_type": "code",
   "execution_count": 48,
   "id": "f107d363",
   "metadata": {},
   "outputs": [
    {
     "data": {
      "text/plain": [
       "3071"
      ]
     },
     "execution_count": 48,
     "metadata": {},
     "output_type": "execute_result"
    }
   ],
   "source": [
    "text[\"splited\"] = text.reviewText.apply(lambda x: x.split())\n",
    "\n",
    "import multiprocessing\n",
    "cores = multiprocessing.cpu_count()\n",
    "\n",
    "\n",
    "model = Word2Vec(sentences = text[\"splited\"].tolist(), \n",
    "                 vector_size = 300, \n",
    "                 sg=1,\n",
    "                 min_count=200,\n",
    "                 window=2,\n",
    "                 alpha = 0.03,\n",
    "                 min_alpha=0.007,\n",
    "                 workers=cores-1,\n",
    "                 seed=10)\n",
    "\n",
    "# how many words included\n",
    "vocab = model.wv.index_to_key\n",
    "len(vocab)"
   ]
  },
  {
   "cell_type": "code",
   "execution_count": 51,
   "id": "2e3b3da9",
   "metadata": {},
   "outputs": [
    {
     "data": {
      "text/plain": [
       "[('playstation', 0.4887385964393616),\n",
       " ('console', 0.4675694704055786),\n",
       " ('dualshock', 0.41457751393318176),\n",
       " ('controller', 0.4141177237033844),\n",
       " ('chatpad', 0.3952624499797821),\n",
       " ('kinect', 0.39006713032722473),\n",
       " ('microsoft', 0.38477057218551636),\n",
       " ('slim', 0.3709268271923065),\n",
       " ('dolby', 0.369596928358078),\n",
       " ('sony', 0.3651803135871887),\n",
       " ('adaptor', 0.3616997003555298),\n",
       " ('gamecube', 0.3614791929721832),\n",
       " ('wii', 0.36095523834228516),\n",
       " ('elite', 0.35317373275756836),\n",
       " ('s', 0.34762224555015564),\n",
       " ('dreamcast', 0.331503689289093),\n",
       " ('mixamp', 0.3288861811161041),\n",
       " ('wirelessly', 0.32771068811416626),\n",
       " ('ipad', 0.3258221745491028),\n",
       " ('p', 0.3236940801143646),\n",
       " ('steam', 0.31067705154418945),\n",
       " ('astros', 0.30975446105003357),\n",
       " ('pc', 0.3073815405368805),\n",
       " ('sega', 0.3043411076068878),\n",
       " ('psp', 0.30268701910972595),\n",
       " ('destiny', 0.2999599277973175),\n",
       " ('raspberry', 0.2974627614021301),\n",
       " ('wiiu', 0.29712510108947754),\n",
       " ('headset', 0.29584628343582153),\n",
       " ('xmas', 0.2956285774707794)]"
      ]
     },
     "execution_count": 51,
     "metadata": {},
     "output_type": "execute_result"
    }
   ],
   "source": [
    "model.wv.most_similar(\"xbox\", topn = 30)"
   ]
  },
  {
   "cell_type": "code",
   "execution_count": 72,
   "id": "f0b62a83",
   "metadata": {},
   "outputs": [
    {
     "data": {
      "text/plain": [
       "[('p', 0.5699692368507385),\n",
       " ('xbox', 0.4887385666370392),\n",
       " ('sony', 0.46391335129737854),\n",
       " ('console', 0.42173489928245544),\n",
       " ('psp', 0.3968246281147003),\n",
       " ('psn', 0.3941665291786194),\n",
       " ('dualshock', 0.3769013285636902),\n",
       " ('slim', 0.37350624799728394),\n",
       " ('membership', 0.36515745520591736),\n",
       " ('controller', 0.36056041717529297),\n",
       " ('dreamcast', 0.35895004868507385),\n",
       " ('vita', 0.3532707095146179),\n",
       " ('psvr', 0.3450950086116791),\n",
       " ('wiiu', 0.34467726945877075),\n",
       " ('gamecube', 0.3332423269748688),\n",
       " ('iphone', 0.3287668824195862),\n",
       " ('sega', 0.32752957940101624),\n",
       " ('nintendo', 0.3244290351867676),\n",
       " ('wii', 0.3232760429382324),\n",
       " ('chatpad', 0.32127758860588074),\n",
       " ('nyko', 0.3159751296043396),\n",
       " ('microsoft', 0.31552377343177795),\n",
       " ('adaptor', 0.313433438539505),\n",
       " ('steam', 0.3133692443370819),\n",
       " ('dolby', 0.30503180623054504),\n",
       " ('subscription', 0.30438870191574097),\n",
       " ('kinect', 0.3020731806755066),\n",
       " ('european', 0.2999058663845062),\n",
       " ('television', 0.29939785599708557),\n",
       " ('samsung', 0.29491835832595825)]"
      ]
     },
     "execution_count": 72,
     "metadata": {},
     "output_type": "execute_result"
    }
   ],
   "source": [
    "model.wv.most_similar(\"playstation\", topn = 30)"
   ]
  },
  {
   "cell_type": "code",
   "execution_count": 74,
   "id": "b355a4be",
   "metadata": {
    "scrolled": true
   },
   "outputs": [
    {
     "data": {
      "text/plain": [
       "[('playstation', 0.46391335129737854),\n",
       " ('microsoft', 0.4614427387714386),\n",
       " ('dualshock', 0.39980828762054443),\n",
       " ('nintendo', 0.39132261276245117),\n",
       " ('nyko', 0.37887465953826904),\n",
       " ('sennheiser', 0.3654959797859192),\n",
       " ('xbox', 0.3651803433895111),\n",
       " ('discontinued', 0.3552987277507782),\n",
       " ('consumer', 0.3411221206188202),\n",
       " ('studio', 0.3329086899757385),\n",
       " ('bose', 0.33085086941719055),\n",
       " ('apple', 0.3239933252334595),\n",
       " ('official', 0.32165196537971497),\n",
       " ('p', 0.31621381640434265),\n",
       " ('hori', 0.311786025762558),\n",
       " ('capcom', 0.3088538646697998),\n",
       " ('earbuds', 0.3072882890701294),\n",
       " ('company', 0.30728521943092346),\n",
       " ('television', 0.3028176724910736),\n",
       " ('ea', 0.29718026518821716),\n",
       " ('sell', 0.2960711419582367),\n",
       " ('turtle', 0.2926674783229828),\n",
       " ('turismo', 0.28952813148498535),\n",
       " ('dolby', 0.2883484661579132),\n",
       " ('sade', 0.2882215082645416),\n",
       " ('beach', 0.28810301423072815),\n",
       " ('vita', 0.2866784334182739),\n",
       " ('psvr', 0.2850545346736908),\n",
       " ('psp', 0.28360801935195923),\n",
       " ('tb', 0.28294265270233154)]"
      ]
     },
     "execution_count": 74,
     "metadata": {},
     "output_type": "execute_result"
    }
   ],
   "source": [
    "model.wv.most_similar(\"sony\", topn = 30)"
   ]
  },
  {
   "cell_type": "code",
   "execution_count": 75,
   "id": "b8439597",
   "metadata": {},
   "outputs": [
    {
     "data": {
      "text/plain": [
       "[('sony', 0.461442768573761),\n",
       " ('manufacturer', 0.40018489956855774),\n",
       " ('xbox', 0.38477054238319397),\n",
       " ('m', 0.3576523959636688),\n",
       " ('nyko', 0.3520476818084717),\n",
       " ('discontinued', 0.3410739600658417),\n",
       " ('amazon', 0.34101009368896484),\n",
       " ('adaptor', 0.3368278443813324),\n",
       " ('chatpad', 0.3309374451637268),\n",
       " ('thrustmaster', 0.32303160429000854),\n",
       " ('official', 0.3212739825248718),\n",
       " ('blame', 0.3189176917076111),\n",
       " ('company', 0.3169057071208954),\n",
       " ('playstation', 0.31552374362945557),\n",
       " ('razer', 0.31380558013916016),\n",
       " ('redragon', 0.311566025018692),\n",
       " ('logitech', 0.3079327940940857),\n",
       " ('sade', 0.30790039896965027),\n",
       " ('dualshock', 0.30770835280418396),\n",
       " ('consumer', 0.3076491057872772),\n",
       " ('site', 0.30745789408683777),\n",
       " ('seller', 0.3005082607269287),\n",
       " ('oem', 0.297184556722641),\n",
       " ('refund', 0.2969989478588104),\n",
       " ('policy', 0.29490771889686584),\n",
       " ('ea', 0.29249656200408936),\n",
       " ('beach', 0.29164919257164),\n",
       " ('logitechs', 0.290625661611557),\n",
       " ('support', 0.29034388065338135),\n",
       " ('brick', 0.2887178361415863)]"
      ]
     },
     "execution_count": 75,
     "metadata": {},
     "output_type": "execute_result"
    }
   ],
   "source": [
    "model.wv.most_similar(\"microsoft\", topn = 30)"
   ]
  },
  {
   "cell_type": "code",
   "execution_count": 73,
   "id": "92d86f60",
   "metadata": {},
   "outputs": [
    {
     "data": {
      "text/plain": [
       "(0.36959696, 0.3050318)"
      ]
     },
     "execution_count": 73,
     "metadata": {},
     "output_type": "execute_result"
    }
   ],
   "source": [
    "(model.wv.similarity(\"xbox\",\"dolby\"),model.wv.similarity(\"playstation\",\"dolby\"))"
   ]
  },
  {
   "cell_type": "code",
   "execution_count": 53,
   "id": "33c2a0b0",
   "metadata": {},
   "outputs": [
    {
     "data": {
      "text/plain": [
       "[('wiiu', 0.4669313430786133),\n",
       " ('dsi', 0.4428672194480896),\n",
       " ('mario', 0.438031405210495),\n",
       " ('bros', 0.4230239689350128),\n",
       " ('wii', 0.4227469265460968),\n",
       " ('gamecube', 0.41269734501838684),\n",
       " ('zelda', 0.4032239317893982),\n",
       " ('xl', 0.39922842383384705),\n",
       " ('usa', 0.39810478687286377),\n",
       " ('sony', 0.39132261276245117),\n",
       " ('snes', 0.38058173656463623),\n",
       " ('crossing', 0.3789213001728058),\n",
       " ('sega', 0.36767199635505676),\n",
       " ('ne', 0.36615315079689026),\n",
       " ('kart', 0.3548736274242401),\n",
       " ('u', 0.35360151529312134),\n",
       " ('gameboy', 0.3497409522533417),\n",
       " ('stylus', 0.3490726351737976),\n",
       " ('hori', 0.34892407059669495),\n",
       " ('gba', 0.3476898968219757),\n",
       " ('retro', 0.3461584448814392),\n",
       " ('smash', 0.34215736389160156),\n",
       " ('official', 0.34127116203308105),\n",
       " ('d', 0.3367120623588562),\n",
       " ('protects', 0.3348960876464844),\n",
       " ('sleeve', 0.33346232771873474),\n",
       " ('cute', 0.33195725083351135),\n",
       " ('skylanders', 0.33010512590408325),\n",
       " ('cartridge', 0.3295820355415344),\n",
       " ('handheld', 0.3265330493450165)]"
      ]
     },
     "execution_count": 53,
     "metadata": {},
     "output_type": "execute_result"
    }
   ],
   "source": [
    "model.wv.most_similar(\"nintendo\", topn = 30)"
   ]
  },
  {
   "cell_type": "code",
   "execution_count": 54,
   "id": "a66dcdc2",
   "metadata": {},
   "outputs": [
    {
     "data": {
      "text/plain": [
       "[('psn', 0.48139071464538574),\n",
       " ('origin', 0.4789343774318695),\n",
       " ('download', 0.4146226644515991),\n",
       " ('code', 0.39013129472732544),\n",
       " ('ea', 0.3871822953224182),\n",
       " ('downloads', 0.38519084453582764),\n",
       " ('raspberry', 0.38044700026512146),\n",
       " ('downloaded', 0.3716098368167877),\n",
       " ('mac', 0.3699237108230591),\n",
       " ('activation', 0.3658447861671448),\n",
       " ('ubisoft', 0.36578136682510376),\n",
       " ('app', 0.3649195432662964),\n",
       " ('retropie', 0.3647307753562927),\n",
       " ('redeem', 0.3608788847923279),\n",
       " ('amazon', 0.3568402826786041),\n",
       " ('window', 0.35594767332077026),\n",
       " ('internet', 0.3538169264793396),\n",
       " ('redeemed', 0.3511607348918915),\n",
       " ('emulator', 0.34826239943504333),\n",
       " ('invalid', 0.34442687034606934),\n",
       " ('offline', 0.3408290445804596),\n",
       " ('account', 0.34023913741111755),\n",
       " ('dolphin', 0.3380466103553772),\n",
       " ('online', 0.3342466950416565),\n",
       " ('activate', 0.3333619236946106),\n",
       " ('beta', 0.33215704560279846),\n",
       " ('copy', 0.33068138360977173),\n",
       " ('pc', 0.32818862795829773),\n",
       " ('mapped', 0.3279193639755249),\n",
       " ('apps', 0.3234262466430664)]"
      ]
     },
     "execution_count": 54,
     "metadata": {},
     "output_type": "execute_result"
    }
   ],
   "source": [
    "model.wv.most_similar(\"steam\", topn = 30)"
   ]
  },
  {
   "cell_type": "code",
   "execution_count": 56,
   "id": "7ff3c2e8",
   "metadata": {},
   "outputs": [
    {
     "data": {
      "text/plain": [
       "[('computer', 0.5857852697372437),\n",
       " ('laptop', 0.5060175657272339),\n",
       " ('retropie', 0.4847010374069214),\n",
       " ('desktop', 0.43388545513153076),\n",
       " ('raspberry', 0.4323420226573944),\n",
       " ('linux', 0.39001744985580444),\n",
       " ('wirelessly', 0.3846098780632019),\n",
       " ('mobile', 0.38245952129364014),\n",
       " ('dolphin', 0.3770036995410919),\n",
       " ('android', 0.3730628490447998),\n",
       " ('emulator', 0.36988839507102966),\n",
       " ('wired', 0.3679439425468445),\n",
       " ('stereo', 0.367496132850647),\n",
       " ('window', 0.3627302944660187),\n",
       " ('emulation', 0.34802404046058655),\n",
       " ('io', 0.34540677070617676),\n",
       " ('pi', 0.3437001407146454),\n",
       " ('retro', 0.3431012034416199),\n",
       " ('macbook', 0.34078294038772583),\n",
       " ('wifi', 0.34059515595436096),\n",
       " ('operating', 0.33992165327072144),\n",
       " ('streaming', 0.33742132782936096),\n",
       " ('bluetooth', 0.3357612192630768),\n",
       " ('asus', 0.33381912112236023),\n",
       " ('platform', 0.333436518907547),\n",
       " ('stream', 0.3315596580505371),\n",
       " ('steam', 0.32818859815597534),\n",
       " ('dreamcast', 0.32276469469070435),\n",
       " ('mac', 0.32227274775505066),\n",
       " ('tablet', 0.32018446922302246)]"
      ]
     },
     "execution_count": 56,
     "metadata": {},
     "output_type": "execute_result"
    }
   ],
   "source": [
    "model.wv.most_similar(\"pc\", topn = 30)"
   ]
  },
  {
   "cell_type": "code",
   "execution_count": 59,
   "id": "a4fbf629",
   "metadata": {},
   "outputs": [
    {
     "data": {
      "text/plain": [
       "(0.14030258, 0.17034927)"
      ]
     },
     "execution_count": 59,
     "metadata": {},
     "output_type": "execute_result"
    }
   ],
   "source": [
    "(model.wv.similarity(\"xbox\",\"error\"),model.wv.similarity(\"playstation\",\"error\"))"
   ]
  },
  {
   "cell_type": "code",
   "execution_count": 60,
   "id": "caa47be2",
   "metadata": {},
   "outputs": [
    {
     "data": {
      "text/plain": [
       "(0.22547668, 0.19013983)"
      ]
     },
     "execution_count": 60,
     "metadata": {},
     "output_type": "execute_result"
    }
   ],
   "source": [
    "(model.wv.similarity(\"xbox\",\"gift\"),model.wv.similarity(\"playstation\",\"gift\"))"
   ]
  },
  {
   "cell_type": "code",
   "execution_count": 62,
   "id": "d0ed2f27",
   "metadata": {},
   "outputs": [
    {
     "data": {
      "text/plain": [
       "(0.0652216, 0.083094195)"
      ]
     },
     "execution_count": 62,
     "metadata": {},
     "output_type": "execute_result"
    }
   ],
   "source": [
    "(model.wv.similarity(\"xbox\",\"storyline\"),model.wv.similarity(\"playstation\",\"storyline\"))"
   ]
  },
  {
   "cell_type": "code",
   "execution_count": 63,
   "id": "b66394f4",
   "metadata": {},
   "outputs": [
    {
     "data": {
      "text/plain": [
       "(0.41411763, 0.36056042)"
      ]
     },
     "execution_count": 63,
     "metadata": {},
     "output_type": "execute_result"
    }
   ],
   "source": [
    "(model.wv.similarity(\"xbox\",\"controller\"),model.wv.similarity(\"playstation\",\"controller\"))"
   ]
  },
  {
   "cell_type": "code",
   "execution_count": 64,
   "id": "2ea91969",
   "metadata": {},
   "outputs": [
    {
     "data": {
      "text/plain": [
       "(0.07383222, 0.14108863)"
      ]
     },
     "execution_count": 64,
     "metadata": {},
     "output_type": "execute_result"
    }
   ],
   "source": [
    "(model.wv.similarity(\"xbox\",\"music\"),model.wv.similarity(\"playstation\",\"music\"))"
   ]
  },
  {
   "cell_type": "code",
   "execution_count": 66,
   "id": "3949904d",
   "metadata": {},
   "outputs": [
    {
     "data": {
      "text/plain": [
       "(0.041177616, 0.051872298)"
      ]
     },
     "execution_count": 66,
     "metadata": {},
     "output_type": "execute_result"
    }
   ],
   "source": [
    "(model.wv.similarity(\"xbox\",\"character\"),model.wv.similarity(\"playstation\",\"character\"))"
   ]
  },
  {
   "cell_type": "code",
   "execution_count": 67,
   "id": "85995841",
   "metadata": {},
   "outputs": [
    {
     "data": {
      "text/plain": [
       "(0.15210676, 0.08493901)"
      ]
     },
     "execution_count": 67,
     "metadata": {},
     "output_type": "execute_result"
    }
   ],
   "source": [
    "(model.wv.similarity(\"xbox\",\"good\"),model.wv.similarity(\"playstation\",\"good\"))"
   ]
  },
  {
   "cell_type": "code",
   "execution_count": 69,
   "id": "0f8c20e9",
   "metadata": {},
   "outputs": [
    {
     "data": {
      "text/plain": [
       "(0.13242257, 0.11542061)"
      ]
     },
     "execution_count": 69,
     "metadata": {},
     "output_type": "execute_result"
    }
   ],
   "source": [
    "(model.wv.similarity(\"xbox\",\"recommend\"),model.wv.similarity(\"playstation\",\"recommend\"))"
   ]
  },
  {
   "cell_type": "code",
   "execution_count": 71,
   "id": "8122fd9d",
   "metadata": {},
   "outputs": [
    {
     "data": {
      "text/plain": [
       "(0.07079734, 0.017516105)"
      ]
     },
     "execution_count": 71,
     "metadata": {},
     "output_type": "execute_result"
    }
   ],
   "source": [
    "(model.wv.similarity(\"xbox\",\"cheap\"),model.wv.similarity(\"playstation\",\"cheap\"))"
   ]
  },
  {
   "cell_type": "code",
   "execution_count": 77,
   "id": "a5c948f3",
   "metadata": {},
   "outputs": [
    {
     "data": {
      "text/plain": [
       "[('present', 0.5966020226478577),\n",
       " ('christmas', 0.5839435458183289),\n",
       " ('birthday', 0.5784627795219421),\n",
       " ('xmas', 0.5500527620315552),\n",
       " ('niece', 0.5301434397697449),\n",
       " ('grandson', 0.5132800936698914),\n",
       " ('nephew', 0.5131808519363403),\n",
       " ('granddaughter', 0.5015125274658203),\n",
       " ('son', 0.46980273723602295),\n",
       " ('teenage', 0.45750704407691956),\n",
       " ('hubby', 0.44797515869140625),\n",
       " ('grandchild', 0.4354320168495178),\n",
       " ('holiday', 0.4325619637966156),\n",
       " ('boyfriend', 0.4302479028701782),\n",
       " ('daughter', 0.4288954436779022),\n",
       " ('yo', 0.42530557513237),\n",
       " ('cousin', 0.4224628508090973),\n",
       " ('grandkids', 0.40704506635665894),\n",
       " ('thrilled', 0.4041613042354584),\n",
       " ('sister', 0.4029344916343689),\n",
       " ('husband', 0.39058971405029297),\n",
       " ('loved', 0.3902706801891327),\n",
       " ('yr', 0.38901591300964355),\n",
       " ('requested', 0.38780099153518677),\n",
       " ('teen', 0.3876591920852661),\n",
       " ('brother', 0.3861185610294342),\n",
       " ('classvideourlinput', 0.38105762004852295),\n",
       " ('dad', 0.3770574629306793),\n",
       " ('yesterday', 0.36185669898986816),\n",
       " ('girlfriend', 0.35487622022628784)]"
      ]
     },
     "execution_count": 77,
     "metadata": {},
     "output_type": "execute_result"
    }
   ],
   "source": [
    "model.wv.most_similar(\"gift\", topn = 30)"
   ]
  },
  {
   "cell_type": "code",
   "execution_count": 80,
   "id": "bafa1265",
   "metadata": {},
   "outputs": [
    {
     "data": {
      "text/plain": [
       "(0.20652376, 0.17266878)"
      ]
     },
     "execution_count": 80,
     "metadata": {},
     "output_type": "execute_result"
    }
   ],
   "source": [
    "(model.wv.similarity(\"xbox\",\"daughter\"),model.wv.similarity(\"playstation\",\"daughter\"))"
   ]
  },
  {
   "cell_type": "code",
   "execution_count": null,
   "id": "2bbc9929",
   "metadata": {},
   "outputs": [],
   "source": []
  }
 ],
 "metadata": {
  "kernelspec": {
   "display_name": "Python 3 (ipykernel)",
   "language": "python",
   "name": "python3"
  },
  "language_info": {
   "codemirror_mode": {
    "name": "ipython",
    "version": 3
   },
   "file_extension": ".py",
   "mimetype": "text/x-python",
   "name": "python",
   "nbconvert_exporter": "python",
   "pygments_lexer": "ipython3",
   "version": "3.9.7"
  },
  "toc": {
   "base_numbering": 1,
   "nav_menu": {},
   "number_sections": true,
   "sideBar": true,
   "skip_h1_title": false,
   "title_cell": "Table of Contents",
   "title_sidebar": "Contents",
   "toc_cell": false,
   "toc_position": {},
   "toc_section_display": true,
   "toc_window_display": false
  }
 },
 "nbformat": 4,
 "nbformat_minor": 5
}
